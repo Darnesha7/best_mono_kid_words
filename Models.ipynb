{
 "cells": [
  {
   "cell_type": "code",
   "execution_count": 1,
   "metadata": {},
   "outputs": [],
   "source": [
    "import pandas as pd\n",
    "import random\n",
    "from matplotlib import pyplot as plt\n",
    "from sklearn.neural_network import MLPClassifier\n",
    "from sklearn.neural_network import MLPRegressor\n",
    "orth_train = pd.read_csv(\"3k/orth_aoa300_reps_train.csv\", header=None, keep_default_na=False, index_col = 0)\n",
    "orth_test = pd.read_csv(\"3k/orth_aoa300_reps_test.csv\", header=None, keep_default_na=False, index_col = 0)\n",
    "phon_train = pd.read_csv(\"3k/phon_aoa300_reps_train.csv\", header=None, keep_default_na=False, index_col = 0)\n",
    "phon_test = pd.read_csv(\"3k/phon_aoa300_reps_test.csv\", header=None, keep_default_na=False, index_col = 0)\n",
    "orth = pd.read_csv (\"3k/orth.csv\", header=None)\n",
    "phon = pd.read_csv (\"3k/phon.csv\", header=None)"
   ]
  },
  {
   "cell_type": "code",
   "execution_count": 2,
   "metadata": {},
   "outputs": [],
   "source": [
    "M = MLPClassifier(\n",
    "    hidden_layer_sizes = (100,), \n",
    "    activation='logistic',\n",
    "    solver='lbfgs',\n",
    "    tol = 1e-8,\n",
    "    max_iter=3000)"
   ]
  },
  {
   "cell_type": "code",
   "execution_count": 3,
   "metadata": {},
   "outputs": [
    {
     "data": {
      "text/plain": [
       "MLPClassifier(activation='logistic', alpha=0.0001, batch_size='auto',\n",
       "       beta_1=0.9, beta_2=0.999, early_stopping=False, epsilon=1e-08,\n",
       "       hidden_layer_sizes=(100,), learning_rate='constant',\n",
       "       learning_rate_init=0.001, max_iter=3000, momentum=0.9,\n",
       "       n_iter_no_change=10, nesterovs_momentum=True, power_t=0.5,\n",
       "       random_state=None, shuffle=True, solver='lbfgs', tol=1e-08,\n",
       "       validation_fraction=0.1, verbose=False, warm_start=False)"
      ]
     },
     "execution_count": 3,
     "metadata": {},
     "output_type": "execute_result"
    }
   ],
   "source": [
    "M.fit(orth_train, phon_train)"
   ]
  },
  {
   "cell_type": "code",
   "execution_count": 4,
   "metadata": {},
   "outputs": [
    {
     "data": {
      "text/plain": [
       "1.0"
      ]
     },
     "execution_count": 4,
     "metadata": {},
     "output_type": "execute_result"
    }
   ],
   "source": [
    "M.score(orth_train, phon_train)"
   ]
  },
  {
   "cell_type": "code",
   "execution_count": 5,
   "metadata": {},
   "outputs": [
    {
     "data": {
      "text/plain": [
       "0.4265788454087563"
      ]
     },
     "execution_count": 5,
     "metadata": {},
     "output_type": "execute_result"
    }
   ],
   "source": [
    "M.score(orth_test, phon_test)"
   ]
  },
  {
   "cell_type": "code",
   "execution_count": 6,
   "metadata": {
    "scrolled": true
   },
   "outputs": [
    {
     "name": "stdout",
     "output_type": "stream",
     "text": [
      "[300, 300, 2581, 2581]\n"
     ]
    }
   ],
   "source": [
    "n = orth.shape[0]\n",
    "ix_train = random.sample (range(n), 300)\n",
    "ix_test = [i for i in range(n) if not i in ix_train]\n",
    "\n",
    "orth_train_random = orth.iloc[ix_train,:]\n",
    "orth_test_random = orth.iloc[ix_test,:]\n",
    "phon_train_random = phon.iloc[ix_train,:]\n",
    "phon_test_random = phon.iloc[ix_test,:]\n",
    "\n",
    "print([\n",
    "    orth_train_random.shape[0],\n",
    "    phon_train_random.shape[0],\n",
    "    orth_test_random.shape[0],\n",
    "    phon_test_random.shape[0]\n",
    "])\n"
   ]
  },
  {
   "cell_type": "code",
   "execution_count": 7,
   "metadata": {},
   "outputs": [
    {
     "data": {
      "text/plain": [
       "0.5094924447888415"
      ]
     },
     "execution_count": 7,
     "metadata": {},
     "output_type": "execute_result"
    }
   ],
   "source": [
    "M.fit(orth_train_random, phon_train_random)\n",
    "M.score(orth_train, phon_train)\n",
    "M.score(orth_test, phon_test)"
   ]
  }
 ],
 "metadata": {
  "kernelspec": {
   "display_name": "Python 3",
   "language": "python",
   "name": "python3"
  },
  "language_info": {
   "codemirror_mode": {
    "name": "ipython",
    "version": 3
   },
   "file_extension": ".py",
   "mimetype": "text/x-python",
   "name": "python",
   "nbconvert_exporter": "python",
   "pygments_lexer": "ipython3",
   "version": "3.7.1"
  }
 },
 "nbformat": 4,
 "nbformat_minor": 2
}
