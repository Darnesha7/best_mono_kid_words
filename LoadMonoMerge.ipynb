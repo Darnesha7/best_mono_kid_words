{
 "cells": [
  {
   "cell_type": "code",
   "execution_count": 1,
   "metadata": {},
   "outputs": [],
   "source": [
    "import pandas as pd\n",
    "aoa = pd.read_excel (\"word-level_data/aoa.xlsx\")\n",
    "tasa = pd.read_excel (\"word-level_data/tasa_1995.xlsx\")\n",
    "mono = pd.read_csv (\"words/monoSort.csv\", index_col = 1, names = [\"source\",\"word\"], header = 1)\n",
    "#print (mono)"
   ]
  },
  {
   "cell_type": "code",
   "execution_count": 2,
   "metadata": {},
   "outputs": [],
   "source": [
    "freq = pd.read_csv(\"word-level_data/lcnl_kid_words.csv\")\n",
    "mono_freq = mono.merge(freq, on = 'word', how = 'left')\n",
    "mono_aoa = mono_freq.merge(aoa, on = 'word', how = 'left')\n",
    "mono_tasa = mono_aoa.merge (tasa, on = 'word', how = 'left')\n",
    "#print (mono_tasa)"
   ]
  },
  {
   "cell_type": "code",
   "execution_count": 3,
   "metadata": {},
   "outputs": [],
   "source": [
    "x =pd.isnull(mono_tasa.iloc[:, 1:7])\n",
    "NoData = x.all(axis=1)\n",
    "y = ~x\n",
    "FullData = y.all(axis=1)\n",
    "mono_wData = pd.DataFrame()\n",
    "mono_wData = mono_tasa.loc[~NoData,:]\n",
    "mono_wData.to_csv('words/mono_wData.csv')"
   ]
  },
  {
   "cell_type": "code",
   "execution_count": 4,
   "metadata": {},
   "outputs": [
    {
     "data": {
      "text/plain": [
       "(2636, 4)"
      ]
     },
     "execution_count": 4,
     "metadata": {},
     "output_type": "execute_result"
    }
   ],
   "source": [
    "mono_3k = pd.read_csv ('words/3k.csv', header = None, names = [\"word\"])\n",
    "mono_3k = mono_3k.merge(aoa, on = 'word', how = 'inner')\n",
    "mono_3k.shape "
   ]
  },
  {
   "cell_type": "code",
   "execution_count": 16,
   "metadata": {},
   "outputs": [],
   "source": [
    "mono_partial = pd.DataFrame()\n",
    "mono_partial = mono_wData[mono_wData.aoa_mean.notnull()]\n",
    "mono_partial.to_csv('mono_partial.csv', na_rep='#N/A')\n",
    "\n",
    "monofull= pd.DataFrame()\n",
    "monofull= mono_wData.dropna()\n",
    "monofull.to_csv('monofull.csv')"
   ]
  },
  {
   "cell_type": "code",
   "execution_count": 6,
   "metadata": {},
   "outputs": [],
   "source": [
    "monofull_use = monofull.sort_values(by=['aoa_mean'])\n",
    "mono_partial_use = mono_partial.sort_values(by=['aoa_mean'])"
   ]
  },
  {
   "cell_type": "code",
   "execution_count": 7,
   "metadata": {},
   "outputs": [],
   "source": [
    "monofull300 = pd.DataFrame()\n",
    "monofull300 = monofull_use.head(300)\n",
    "monofull300.to_csv('monofull300.csv')"
   ]
  },
  {
   "cell_type": "code",
   "execution_count": 8,
   "metadata": {},
   "outputs": [],
   "source": [
    "monofull500 = pd.DataFrame()\n",
    "monofull500 = monofull_use.head(500)\n",
    "monofull500.to_csv('monofull500.csv')"
   ]
  },
  {
   "cell_type": "code",
   "execution_count": 9,
   "metadata": {},
   "outputs": [],
   "source": [
    "monofull1000 = pd.DataFrame()\n",
    "monofull1000 = monofull_use.head(1000)\n",
    "monofull1000.to_csv('monofull1000.csv')"
   ]
  },
  {
   "cell_type": "code",
   "execution_count": 10,
   "metadata": {},
   "outputs": [],
   "source": [
    "mono_partial300 = pd.DataFrame()\n",
    "mono_partial300 = mono_partial_use.head(300)\n",
    "mono_partial300.to_csv('mono_partial300.csv')"
   ]
  },
  {
   "cell_type": "code",
   "execution_count": 11,
   "metadata": {},
   "outputs": [],
   "source": [
    "mono_partial500 = pd.DataFrame()\n",
    "mono_partial500 = mono_partial_use.head(500)\n",
    "mono_partial500.to_csv('mono_partial500.csv')"
   ]
  },
  {
   "cell_type": "code",
   "execution_count": 12,
   "metadata": {},
   "outputs": [],
   "source": [
    "mono_partial1000 = pd.DataFrame()\n",
    "mono_partial1000 = mono_partial_use.head(1000)\n",
    "mono_partial1000.to_csv('mono_partial1000.csv')"
   ]
  }
 ],
 "metadata": {
  "kernelspec": {
   "display_name": "Python 3",
   "language": "python",
   "name": "python3"
  },
  "language_info": {
   "codemirror_mode": {
    "name": "ipython",
    "version": 3
   },
   "file_extension": ".py",
   "mimetype": "text/x-python",
   "name": "python",
   "nbconvert_exporter": "python",
   "pygments_lexer": "ipython3",
   "version": "3.7.1"
  }
 },
 "nbformat": 4,
 "nbformat_minor": 2
}
